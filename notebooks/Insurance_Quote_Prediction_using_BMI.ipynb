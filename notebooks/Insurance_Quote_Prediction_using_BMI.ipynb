{
  "nbformat": 4,
  "nbformat_minor": 0,
  "metadata": {
    "kernelspec": {
      "display_name": "Python 3",
      "language": "python",
      "name": "python3"
    },
    "language_info": {
      "codemirror_mode": {
        "name": "ipython",
        "version": 3
      },
      "file_extension": ".py",
      "mimetype": "text/x-python",
      "name": "python",
      "nbconvert_exporter": "python",
      "pygments_lexer": "ipython3",
      "version": "3.7.4"
    },
    "colab": {
      "name": "Insurance Quote Prediction using BMI.ipynb",
      "provenance": [],
      "collapsed_sections": []
    }
  },
  "cells": [
    {
      "cell_type": "code",
      "metadata": {
        "id": "CYGrPIG5S73S"
      },
      "source": [
        "# Import the libraries\n",
        "\n",
        "import pandas as pd\n",
        "import numpy as np\n",
        "import joblib\n",
        "import matplotlib.pyplot as plt\n",
        "\n",
        "# ML libraries\n",
        "from sklearn.model_selection import train_test_split\n",
        "from sklearn.linear_model import LinearRegression\n",
        "from sklearn.ensemble import RandomForestClassifier\n",
        "\n",
        "# metrics\n",
        "from sklearn import metrics\n",
        "from sklearn.metrics import r2_score\n",
        "\n",
        "# Import the dataset\n",
        "data = pd.read_csv('data/quote.csv')"
      ],
      "execution_count": 1,
      "outputs": []
    },
    {
      "cell_type": "code",
      "metadata": {
        "colab": {
          "base_uri": "https://localhost:8080/",
          "height": 206
        },
        "id": "uNORpd4DS73V",
        "outputId": "1e4ea2fd-94df-4123-fd87-46f4dc31945e"
      },
      "source": [
        "data.head()"
      ],
      "execution_count": 2,
      "outputs": [
        {
          "output_type": "execute_result",
          "data": {
            "text/html": [
              "<div>\n",
              "<style scoped>\n",
              "    .dataframe tbody tr th:only-of-type {\n",
              "        vertical-align: middle;\n",
              "    }\n",
              "\n",
              "    .dataframe tbody tr th {\n",
              "        vertical-align: top;\n",
              "    }\n",
              "\n",
              "    .dataframe thead th {\n",
              "        text-align: right;\n",
              "    }\n",
              "</style>\n",
              "<table border=\"1\" class=\"dataframe\">\n",
              "  <thead>\n",
              "    <tr style=\"text-align: right;\">\n",
              "      <th></th>\n",
              "      <th>Ins_Age</th>\n",
              "      <th>Ins_Gender</th>\n",
              "      <th>Wt</th>\n",
              "      <th>meters</th>\n",
              "      <th>BMI</th>\n",
              "      <th>quote</th>\n",
              "    </tr>\n",
              "  </thead>\n",
              "  <tbody>\n",
              "    <tr>\n",
              "      <th>0</th>\n",
              "      <td>31</td>\n",
              "      <td>1</td>\n",
              "      <td>83.914520</td>\n",
              "      <td>1.5494</td>\n",
              "      <td>34.96</td>\n",
              "      <td>0</td>\n",
              "    </tr>\n",
              "    <tr>\n",
              "      <th>1</th>\n",
              "      <td>35</td>\n",
              "      <td>1</td>\n",
              "      <td>92.986360</td>\n",
              "      <td>1.5494</td>\n",
              "      <td>38.73</td>\n",
              "      <td>1</td>\n",
              "    </tr>\n",
              "    <tr>\n",
              "      <th>2</th>\n",
              "      <td>45</td>\n",
              "      <td>0</td>\n",
              "      <td>56.699000</td>\n",
              "      <td>1.5494</td>\n",
              "      <td>23.62</td>\n",
              "      <td>0</td>\n",
              "    </tr>\n",
              "    <tr>\n",
              "      <th>3</th>\n",
              "      <td>38</td>\n",
              "      <td>1</td>\n",
              "      <td>79.378600</td>\n",
              "      <td>1.5240</td>\n",
              "      <td>34.18</td>\n",
              "      <td>0</td>\n",
              "    </tr>\n",
              "    <tr>\n",
              "      <th>4</th>\n",
              "      <td>39</td>\n",
              "      <td>0</td>\n",
              "      <td>114.305184</td>\n",
              "      <td>1.8288</td>\n",
              "      <td>34.18</td>\n",
              "      <td>0</td>\n",
              "    </tr>\n",
              "  </tbody>\n",
              "</table>\n",
              "</div>"
            ],
            "text/plain": [
              "   Ins_Age  Ins_Gender          Wt  meters    BMI  quote\n",
              "0       31           1   83.914520  1.5494  34.96      0\n",
              "1       35           1   92.986360  1.5494  38.73      1\n",
              "2       45           0   56.699000  1.5494  23.62      0\n",
              "3       38           1   79.378600  1.5240  34.18      0\n",
              "4       39           0  114.305184  1.8288  34.18      0"
            ]
          },
          "metadata": {},
          "execution_count": 2
        }
      ]
    },
    {
      "cell_type": "code",
      "metadata": {
        "colab": {
          "base_uri": "https://localhost:8080/"
        },
        "id": "DgOT-kgoczyW",
        "outputId": "9c04529c-985d-4ab6-d67d-fce408ed0ac5"
      },
      "source": [
        "data.info()"
      ],
      "execution_count": 3,
      "outputs": [
        {
          "output_type": "stream",
          "name": "stdout",
          "text": [
            "<class 'pandas.core.frame.DataFrame'>\n",
            "RangeIndex: 100 entries, 0 to 99\n",
            "Data columns (total 6 columns):\n",
            " #   Column      Non-Null Count  Dtype  \n",
            "---  ------      --------------  -----  \n",
            " 0   Ins_Age     100 non-null    int64  \n",
            " 1   Ins_Gender  100 non-null    int64  \n",
            " 2   Wt          100 non-null    float64\n",
            " 3   meters      100 non-null    float64\n",
            " 4   BMI         100 non-null    float64\n",
            " 5   quote       100 non-null    int64  \n",
            "dtypes: float64(3), int64(3)\n",
            "memory usage: 4.8 KB\n"
          ]
        }
      ]
    },
    {
      "cell_type": "code",
      "metadata": {
        "id": "Lw3-AcGzAayV"
      },
      "source": [
        "y=data.quote\n",
        "X=data.drop(['quote'],axis=1)"
      ],
      "execution_count": 4,
      "outputs": []
    },
    {
      "cell_type": "code",
      "metadata": {
        "collapsed": true,
        "id": "fR1JaTmzS73X"
      },
      "source": [
        "# Splitting the dataset into the Training set and Test set\n",
        "X_train, X_test, y_train, y_test = train_test_split(X, y, test_size = 0.2, random_state = 0)"
      ],
      "execution_count": 5,
      "outputs": []
    },
    {
      "cell_type": "code",
      "metadata": {
        "colab": {
          "base_uri": "https://localhost:8080/"
        },
        "id": "yTrUNzkrCVrq",
        "outputId": "c57065cf-57d8-453a-d99c-59d32d594b52"
      },
      "source": [
        "model = RandomForestClassifier(n_estimators = 100, random_state = 0, criterion='entropy', max_depth=3, max_features=5)\n",
        "model.fit(X_train, y_train)"
      ],
      "execution_count": 6,
      "outputs": [
        {
          "output_type": "execute_result",
          "data": {
            "text/plain": [
              "RandomForestClassifier(criterion='entropy', max_depth=3, max_features=5,\n",
              "                       random_state=0)"
            ]
          },
          "metadata": {},
          "execution_count": 6
        }
      ]
    },
    {
      "cell_type": "code",
      "metadata": {
        "collapsed": true,
        "id": "HCFIALcZS73Y"
      },
      "source": [
        "# Predicting the Test set results\n",
        "y_pred = model.predict(X_test)"
      ],
      "execution_count": 7,
      "outputs": []
    },
    {
      "cell_type": "code",
      "metadata": {
        "colab": {
          "base_uri": "https://localhost:8080/"
        },
        "id": "MwBeDXorL_3S",
        "outputId": "d127f2d9-b874-4fc1-bd38-c81dd72167fc"
      },
      "source": [
        "model.score(X_test,y_test)"
      ],
      "execution_count": 8,
      "outputs": [
        {
          "output_type": "execute_result",
          "data": {
            "text/plain": [
              "0.95"
            ]
          },
          "metadata": {},
          "execution_count": 8
        }
      ]
    },
    {
      "cell_type": "code",
      "metadata": {
        "colab": {
          "base_uri": "https://localhost:8080/"
        },
        "id": "gJE6ZitbS73Z",
        "outputId": "25813ac9-3359-473b-8927-2a6700d6a97e"
      },
      "source": [
        "# Predicting the sigle observation results.\n",
        "test_applicant = [38,1,83.91,1.5494,34.96]\n",
        "df = pd.DataFrame([test_applicant], columns=['Ins_Age','Ins_Gender','Wt','meters','BMI'])\n",
        "y_pred_single_obs = model.predict(df)\n",
        "y_pred_single_obs[0]"
      ],
      "execution_count": 9,
      "outputs": [
        {
          "output_type": "execute_result",
          "data": {
            "text/plain": [
              "0"
            ]
          },
          "metadata": {},
          "execution_count": 9
        }
      ]
    },
    {
      "cell_type": "code",
      "metadata": {
        "collapsed": true,
        "colab": {
          "base_uri": "https://localhost:8080/"
        },
        "id": "ESBjA2xtS73a",
        "outputId": "306dc2e9-3ce8-47b9-e5ea-e22be6ef60b8"
      },
      "source": [
        "#Saving the model\n",
        "joblib.dump(model, \"insurance_quote_model.pkl\")"
      ],
      "execution_count": 10,
      "outputs": [
        {
          "output_type": "execute_result",
          "data": {
            "text/plain": [
              "['insurance_quote_model.pkl']"
            ]
          },
          "metadata": {},
          "execution_count": 10
        }
      ]
    },
    {
      "cell_type": "code",
      "metadata": {
        "colab": {
          "base_uri": "https://localhost:8080/"
        },
        "id": "YGXog7x6S73a",
        "outputId": "6fd54edd-8d7b-4cd7-d360-572d1ffd1ad6"
      },
      "source": [
        "# testing the model through the pickle file\n",
        "test_applicant = [38,1,83.91,1.5494,34.96]\n",
        "df = pd.DataFrame([test_applicant], columns=['Ins_Age','Ins_Gender','Wt','meters','BMI'])\n",
        "ins_quote = open(\"insurance_quote_model.pkl\",\"rb\")\n",
        "ml_model = joblib.load(ins_quote)\n",
        "model_prediction = ml_model.predict(df)\n",
        "\n",
        "model_prediction[0]"
      ],
      "execution_count": 11,
      "outputs": [
        {
          "output_type": "execute_result",
          "data": {
            "text/plain": [
              "0"
            ]
          },
          "metadata": {},
          "execution_count": 11
        }
      ]
    },
    {
      "cell_type": "code",
      "metadata": {
        "collapsed": true,
        "id": "F1diACFDS73b"
      },
      "source": [
        ""
      ],
      "execution_count": 11,
      "outputs": []
    }
  ]
}