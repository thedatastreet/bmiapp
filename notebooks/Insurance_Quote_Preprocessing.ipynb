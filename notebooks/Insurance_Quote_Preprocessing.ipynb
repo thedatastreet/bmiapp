{
  "nbformat": 4,
  "nbformat_minor": 0,
  "metadata": {
    "kernelspec": {
      "display_name": "Python 3",
      "language": "python",
      "name": "python3"
    },
    "language_info": {
      "codemirror_mode": {
        "name": "ipython",
        "version": 3
      },
      "file_extension": ".py",
      "mimetype": "text/x-python",
      "name": "python",
      "nbconvert_exporter": "python",
      "pygments_lexer": "ipython3",
      "version": "3.7.4"
    },
    "colab": {
      "name": "Insurance Quote Preprocessing.ipynb",
      "provenance": [],
      "collapsed_sections": []
    }
  },
  "cells": [
    {
      "cell_type": "code",
      "metadata": {
        "id": "CYGrPIG5S73S"
      },
      "source": [
        "# Notebook for preprocessing the Insurance Quote data based on BMI Business rules\n",
        "# Import the libraries\n",
        "import pandas as pd\n",
        "import numpy as np\n",
        "from sklearn.preprocessing import LabelEncoder"
      ],
      "execution_count": 1,
      "outputs": []
    },
    {
      "cell_type": "code",
      "metadata": {
        "colab": {
          "base_uri": "https://localhost:8080/",
          "height": 206
        },
        "id": "uNORpd4DS73V",
        "outputId": "888e2ad2-0871-4672-c9ec-7945f3c07a76"
      },
      "source": [
        "# Import the dataset\n",
        "data = pd.read_csv('data/data.csv')\n",
        "data.head()"
      ],
      "execution_count": 2,
      "outputs": [
        {
          "output_type": "execute_result",
          "data": {
            "text/html": [
              "<div>\n",
              "<style scoped>\n",
              "    .dataframe tbody tr th:only-of-type {\n",
              "        vertical-align: middle;\n",
              "    }\n",
              "\n",
              "    .dataframe tbody tr th {\n",
              "        vertical-align: top;\n",
              "    }\n",
              "\n",
              "    .dataframe thead th {\n",
              "        text-align: right;\n",
              "    }\n",
              "</style>\n",
              "<table border=\"1\" class=\"dataframe\">\n",
              "  <thead>\n",
              "    <tr style=\"text-align: right;\">\n",
              "      <th></th>\n",
              "      <th>AppID</th>\n",
              "      <th>Ins_Age</th>\n",
              "      <th>Ins_Gender</th>\n",
              "      <th>Ht</th>\n",
              "      <th>Wt</th>\n",
              "      <th>IssueDate</th>\n",
              "    </tr>\n",
              "  </thead>\n",
              "  <tbody>\n",
              "    <tr>\n",
              "      <th>0</th>\n",
              "      <td>56372</td>\n",
              "      <td>31</td>\n",
              "      <td>Male</td>\n",
              "      <td>510</td>\n",
              "      <td>185</td>\n",
              "      <td>NaN</td>\n",
              "    </tr>\n",
              "    <tr>\n",
              "      <th>1</th>\n",
              "      <td>34565</td>\n",
              "      <td>35</td>\n",
              "      <td>Male</td>\n",
              "      <td>510</td>\n",
              "      <td>205</td>\n",
              "      <td>NaN</td>\n",
              "    </tr>\n",
              "    <tr>\n",
              "      <th>2</th>\n",
              "      <td>57732</td>\n",
              "      <td>45</td>\n",
              "      <td>Female</td>\n",
              "      <td>510</td>\n",
              "      <td>125</td>\n",
              "      <td>NaN</td>\n",
              "    </tr>\n",
              "    <tr>\n",
              "      <th>3</th>\n",
              "      <td>87324</td>\n",
              "      <td>38</td>\n",
              "      <td>Male</td>\n",
              "      <td>503</td>\n",
              "      <td>175</td>\n",
              "      <td>NaN</td>\n",
              "    </tr>\n",
              "    <tr>\n",
              "      <th>4</th>\n",
              "      <td>12323</td>\n",
              "      <td>39</td>\n",
              "      <td>Female</td>\n",
              "      <td>600</td>\n",
              "      <td>252</td>\n",
              "      <td>NaN</td>\n",
              "    </tr>\n",
              "  </tbody>\n",
              "</table>\n",
              "</div>"
            ],
            "text/plain": [
              "   AppID  Ins_Age Ins_Gender   Ht   Wt  IssueDate\n",
              "0  56372       31       Male  510  185        NaN\n",
              "1  34565       35       Male  510  205        NaN\n",
              "2  57732       45     Female  510  125        NaN\n",
              "3  87324       38       Male  503  175        NaN\n",
              "4  12323       39     Female  600  252        NaN"
            ]
          },
          "metadata": {},
          "execution_count": 2
        }
      ]
    },
    {
      "cell_type": "code",
      "metadata": {
        "id": "Huyg2u1iS73V"
      },
      "source": [
        "# drop column names AppID and IssueDate as they are non value added\n",
        "data.drop(['AppID', 'IssueDate'], axis='columns', inplace=True)"
      ],
      "execution_count": 3,
      "outputs": []
    },
    {
      "cell_type": "code",
      "metadata": {
        "collapsed": true,
        "id": "PBe9MYW2S73W"
      },
      "source": [
        "# Label Encoding the Gender column [Female: 0 and Male: 1]\n",
        "encoder=LabelEncoder()\n",
        "data.Ins_Gender=encoder.fit_transform(data.Ins_Gender)"
      ],
      "execution_count": 4,
      "outputs": []
    },
    {
      "cell_type": "code",
      "metadata": {
        "id": "vU557JoBcC5v"
      },
      "source": [
        "def calculate_meters(Ht):\n",
        "  '''\n",
        "  Function for converting height into meters. \n",
        "  Height of applicant is in Ft with inches. The first digit refers to ft and following digits refers to inches\n",
        "  Ex: 507 means 5 ft and 7 inches\n",
        "\n",
        "  Parameters:\n",
        "  Ht: Height in Feets and inches\n",
        "  Return:\n",
        "  meters: Output in meters\n",
        "  '''\n",
        "  feet = int(Ht[0:1]) # retreive height\n",
        "  inches = int(Ht[1:2]) # retreive inches\n",
        "  meters = (feet*12 + inches) * 0.0254 # convert to meters\n",
        "  return meters"
      ],
      "execution_count": 5,
      "outputs": []
    },
    {
      "cell_type": "code",
      "metadata": {
        "id": "XJX9saeWcPkb"
      },
      "source": [
        "data['meters'] = data.apply(lambda row: calculate_meters(row['Ht'].astype(str)),axis=1)\n",
        "data.drop(['Ht'], axis='columns', inplace=True)"
      ],
      "execution_count": 6,
      "outputs": []
    },
    {
      "cell_type": "code",
      "metadata": {
        "id": "eO-eJXCJZ36J"
      },
      "source": [
        "# calculate BMI as per business rule. BMI = kg/(meter-suare)\n",
        "data['Wt']=data['Wt']*0.453592 # convert applicant weight to kgs\n",
        "data['BMI'] = round(data['Wt']/(data['meters']*data['meters']),2)"
      ],
      "execution_count": 7,
      "outputs": []
    },
    {
      "cell_type": "code",
      "metadata": {
        "colab": {
          "base_uri": "https://localhost:8080/",
          "height": 423
        },
        "id": "mluBa12Scy4G",
        "outputId": "dfa2a644-645a-4346-b757-0fddbeb027a7"
      },
      "source": [
        "data"
      ],
      "execution_count": 8,
      "outputs": [
        {
          "output_type": "execute_result",
          "data": {
            "text/html": [
              "<div>\n",
              "<style scoped>\n",
              "    .dataframe tbody tr th:only-of-type {\n",
              "        vertical-align: middle;\n",
              "    }\n",
              "\n",
              "    .dataframe tbody tr th {\n",
              "        vertical-align: top;\n",
              "    }\n",
              "\n",
              "    .dataframe thead th {\n",
              "        text-align: right;\n",
              "    }\n",
              "</style>\n",
              "<table border=\"1\" class=\"dataframe\">\n",
              "  <thead>\n",
              "    <tr style=\"text-align: right;\">\n",
              "      <th></th>\n",
              "      <th>Ins_Age</th>\n",
              "      <th>Ins_Gender</th>\n",
              "      <th>Wt</th>\n",
              "      <th>meters</th>\n",
              "      <th>BMI</th>\n",
              "    </tr>\n",
              "  </thead>\n",
              "  <tbody>\n",
              "    <tr>\n",
              "      <th>0</th>\n",
              "      <td>31</td>\n",
              "      <td>1</td>\n",
              "      <td>83.914520</td>\n",
              "      <td>1.5494</td>\n",
              "      <td>34.96</td>\n",
              "    </tr>\n",
              "    <tr>\n",
              "      <th>1</th>\n",
              "      <td>35</td>\n",
              "      <td>1</td>\n",
              "      <td>92.986360</td>\n",
              "      <td>1.5494</td>\n",
              "      <td>38.73</td>\n",
              "    </tr>\n",
              "    <tr>\n",
              "      <th>2</th>\n",
              "      <td>45</td>\n",
              "      <td>0</td>\n",
              "      <td>56.699000</td>\n",
              "      <td>1.5494</td>\n",
              "      <td>23.62</td>\n",
              "    </tr>\n",
              "    <tr>\n",
              "      <th>3</th>\n",
              "      <td>38</td>\n",
              "      <td>1</td>\n",
              "      <td>79.378600</td>\n",
              "      <td>1.5240</td>\n",
              "      <td>34.18</td>\n",
              "    </tr>\n",
              "    <tr>\n",
              "      <th>4</th>\n",
              "      <td>39</td>\n",
              "      <td>0</td>\n",
              "      <td>114.305184</td>\n",
              "      <td>1.8288</td>\n",
              "      <td>34.18</td>\n",
              "    </tr>\n",
              "    <tr>\n",
              "      <th>...</th>\n",
              "      <td>...</td>\n",
              "      <td>...</td>\n",
              "      <td>...</td>\n",
              "      <td>...</td>\n",
              "      <td>...</td>\n",
              "    </tr>\n",
              "    <tr>\n",
              "      <th>95</th>\n",
              "      <td>35</td>\n",
              "      <td>1</td>\n",
              "      <td>124.737800</td>\n",
              "      <td>1.5494</td>\n",
              "      <td>51.96</td>\n",
              "    </tr>\n",
              "    <tr>\n",
              "      <th>96</th>\n",
              "      <td>27</td>\n",
              "      <td>1</td>\n",
              "      <td>65.770840</td>\n",
              "      <td>1.8288</td>\n",
              "      <td>19.67</td>\n",
              "    </tr>\n",
              "    <tr>\n",
              "      <th>97</th>\n",
              "      <td>35</td>\n",
              "      <td>0</td>\n",
              "      <td>86.182480</td>\n",
              "      <td>1.5240</td>\n",
              "      <td>37.11</td>\n",
              "    </tr>\n",
              "    <tr>\n",
              "      <th>98</th>\n",
              "      <td>38</td>\n",
              "      <td>0</td>\n",
              "      <td>65.317248</td>\n",
              "      <td>1.5494</td>\n",
              "      <td>27.21</td>\n",
              "    </tr>\n",
              "    <tr>\n",
              "      <th>99</th>\n",
              "      <td>52</td>\n",
              "      <td>0</td>\n",
              "      <td>56.699000</td>\n",
              "      <td>1.5494</td>\n",
              "      <td>23.62</td>\n",
              "    </tr>\n",
              "  </tbody>\n",
              "</table>\n",
              "<p>100 rows × 5 columns</p>\n",
              "</div>"
            ],
            "text/plain": [
              "    Ins_Age  Ins_Gender          Wt  meters    BMI\n",
              "0        31           1   83.914520  1.5494  34.96\n",
              "1        35           1   92.986360  1.5494  38.73\n",
              "2        45           0   56.699000  1.5494  23.62\n",
              "3        38           1   79.378600  1.5240  34.18\n",
              "4        39           0  114.305184  1.8288  34.18\n",
              "..      ...         ...         ...     ...    ...\n",
              "95       35           1  124.737800  1.5494  51.96\n",
              "96       27           1   65.770840  1.8288  19.67\n",
              "97       35           0   86.182480  1.5240  37.11\n",
              "98       38           0   65.317248  1.5494  27.21\n",
              "99       52           0   56.699000  1.5494  23.62\n",
              "\n",
              "[100 rows x 5 columns]"
            ]
          },
          "metadata": {},
          "execution_count": 8
        }
      ]
    },
    {
      "cell_type": "code",
      "metadata": {
        "id": "VsQDT3_P8BRB"
      },
      "source": [
        "def calculate_quote(record):\n",
        "  '''\n",
        "  Function to calculate insurance quote based on the BMI Business Rules\n",
        "\n",
        "  Parameters:\n",
        "  record: input record from the dataframe\n",
        "\n",
        "  Return:\n",
        "  quote_class: quote_class as per BMI rules\n",
        "  '''\n",
        "  # retreive age, gender and bmi values\n",
        "  age = record['Ins_Age']\n",
        "  gender = record['Ins_Gender']\n",
        "  bmi = record['BMI']\n",
        "\n",
        "  # calcualte insurance quote based on BMI Business rules \n",
        "  if ((age >= 18 and age <=39) and (bmi < 17.49 or bmi >38.5)):\n",
        "    quote_class = 1\n",
        "  elif ((age >= 40 and age <=59) and (bmi < 18.49 or bmi >38.5)):\n",
        "    quote_class = 2\n",
        "  elif ((age >= 60) and (bmi < 18.49 or bmi >45.5)):\n",
        "    quote_class = 3\n",
        "  else:\n",
        "    quote_class = 0 \n",
        "  \n",
        "  return quote_class"
      ],
      "execution_count": 9,
      "outputs": []
    },
    {
      "cell_type": "code",
      "metadata": {
        "id": "WcyZL25x8Sbc"
      },
      "source": [
        "data['quote'] = data.apply(lambda row: calculate_quote(row),axis=1)"
      ],
      "execution_count": 10,
      "outputs": []
    },
    {
      "cell_type": "code",
      "metadata": {
        "colab": {
          "base_uri": "https://localhost:8080/",
          "height": 423
        },
        "id": "Zpq_7ClOAPnq",
        "outputId": "856d3104-9252-4a20-c145-5655fe1a43d5"
      },
      "source": [
        "data"
      ],
      "execution_count": 11,
      "outputs": [
        {
          "output_type": "execute_result",
          "data": {
            "text/html": [
              "<div>\n",
              "<style scoped>\n",
              "    .dataframe tbody tr th:only-of-type {\n",
              "        vertical-align: middle;\n",
              "    }\n",
              "\n",
              "    .dataframe tbody tr th {\n",
              "        vertical-align: top;\n",
              "    }\n",
              "\n",
              "    .dataframe thead th {\n",
              "        text-align: right;\n",
              "    }\n",
              "</style>\n",
              "<table border=\"1\" class=\"dataframe\">\n",
              "  <thead>\n",
              "    <tr style=\"text-align: right;\">\n",
              "      <th></th>\n",
              "      <th>Ins_Age</th>\n",
              "      <th>Ins_Gender</th>\n",
              "      <th>Wt</th>\n",
              "      <th>meters</th>\n",
              "      <th>BMI</th>\n",
              "      <th>quote</th>\n",
              "    </tr>\n",
              "  </thead>\n",
              "  <tbody>\n",
              "    <tr>\n",
              "      <th>0</th>\n",
              "      <td>31</td>\n",
              "      <td>1</td>\n",
              "      <td>83.914520</td>\n",
              "      <td>1.5494</td>\n",
              "      <td>34.96</td>\n",
              "      <td>0</td>\n",
              "    </tr>\n",
              "    <tr>\n",
              "      <th>1</th>\n",
              "      <td>35</td>\n",
              "      <td>1</td>\n",
              "      <td>92.986360</td>\n",
              "      <td>1.5494</td>\n",
              "      <td>38.73</td>\n",
              "      <td>1</td>\n",
              "    </tr>\n",
              "    <tr>\n",
              "      <th>2</th>\n",
              "      <td>45</td>\n",
              "      <td>0</td>\n",
              "      <td>56.699000</td>\n",
              "      <td>1.5494</td>\n",
              "      <td>23.62</td>\n",
              "      <td>0</td>\n",
              "    </tr>\n",
              "    <tr>\n",
              "      <th>3</th>\n",
              "      <td>38</td>\n",
              "      <td>1</td>\n",
              "      <td>79.378600</td>\n",
              "      <td>1.5240</td>\n",
              "      <td>34.18</td>\n",
              "      <td>0</td>\n",
              "    </tr>\n",
              "    <tr>\n",
              "      <th>4</th>\n",
              "      <td>39</td>\n",
              "      <td>0</td>\n",
              "      <td>114.305184</td>\n",
              "      <td>1.8288</td>\n",
              "      <td>34.18</td>\n",
              "      <td>0</td>\n",
              "    </tr>\n",
              "    <tr>\n",
              "      <th>...</th>\n",
              "      <td>...</td>\n",
              "      <td>...</td>\n",
              "      <td>...</td>\n",
              "      <td>...</td>\n",
              "      <td>...</td>\n",
              "      <td>...</td>\n",
              "    </tr>\n",
              "    <tr>\n",
              "      <th>95</th>\n",
              "      <td>35</td>\n",
              "      <td>1</td>\n",
              "      <td>124.737800</td>\n",
              "      <td>1.5494</td>\n",
              "      <td>51.96</td>\n",
              "      <td>1</td>\n",
              "    </tr>\n",
              "    <tr>\n",
              "      <th>96</th>\n",
              "      <td>27</td>\n",
              "      <td>1</td>\n",
              "      <td>65.770840</td>\n",
              "      <td>1.8288</td>\n",
              "      <td>19.67</td>\n",
              "      <td>0</td>\n",
              "    </tr>\n",
              "    <tr>\n",
              "      <th>97</th>\n",
              "      <td>35</td>\n",
              "      <td>0</td>\n",
              "      <td>86.182480</td>\n",
              "      <td>1.5240</td>\n",
              "      <td>37.11</td>\n",
              "      <td>0</td>\n",
              "    </tr>\n",
              "    <tr>\n",
              "      <th>98</th>\n",
              "      <td>38</td>\n",
              "      <td>0</td>\n",
              "      <td>65.317248</td>\n",
              "      <td>1.5494</td>\n",
              "      <td>27.21</td>\n",
              "      <td>0</td>\n",
              "    </tr>\n",
              "    <tr>\n",
              "      <th>99</th>\n",
              "      <td>52</td>\n",
              "      <td>0</td>\n",
              "      <td>56.699000</td>\n",
              "      <td>1.5494</td>\n",
              "      <td>23.62</td>\n",
              "      <td>0</td>\n",
              "    </tr>\n",
              "  </tbody>\n",
              "</table>\n",
              "<p>100 rows × 6 columns</p>\n",
              "</div>"
            ],
            "text/plain": [
              "    Ins_Age  Ins_Gender          Wt  meters    BMI  quote\n",
              "0        31           1   83.914520  1.5494  34.96      0\n",
              "1        35           1   92.986360  1.5494  38.73      1\n",
              "2        45           0   56.699000  1.5494  23.62      0\n",
              "3        38           1   79.378600  1.5240  34.18      0\n",
              "4        39           0  114.305184  1.8288  34.18      0\n",
              "..      ...         ...         ...     ...    ...    ...\n",
              "95       35           1  124.737800  1.5494  51.96      1\n",
              "96       27           1   65.770840  1.8288  19.67      0\n",
              "97       35           0   86.182480  1.5240  37.11      0\n",
              "98       38           0   65.317248  1.5494  27.21      0\n",
              "99       52           0   56.699000  1.5494  23.62      0\n",
              "\n",
              "[100 rows x 6 columns]"
            ]
          },
          "metadata": {},
          "execution_count": 11
        }
      ]
    },
    {
      "cell_type": "code",
      "metadata": {
        "colab": {
          "base_uri": "https://localhost:8080/"
        },
        "id": "SshqlZlHMA3g",
        "outputId": "78208d9d-f7cd-4434-e916-6161992ee233"
      },
      "source": [
        "data.info()"
      ],
      "execution_count": 12,
      "outputs": [
        {
          "output_type": "stream",
          "name": "stdout",
          "text": [
            "<class 'pandas.core.frame.DataFrame'>\n",
            "RangeIndex: 100 entries, 0 to 99\n",
            "Data columns (total 6 columns):\n",
            " #   Column      Non-Null Count  Dtype  \n",
            "---  ------      --------------  -----  \n",
            " 0   Ins_Age     100 non-null    int64  \n",
            " 1   Ins_Gender  100 non-null    int64  \n",
            " 2   Wt          100 non-null    float64\n",
            " 3   meters      100 non-null    float64\n",
            " 4   BMI         100 non-null    float64\n",
            " 5   quote       100 non-null    int64  \n",
            "dtypes: float64(3), int64(3)\n",
            "memory usage: 4.8 KB\n"
          ]
        }
      ]
    },
    {
      "cell_type": "code",
      "metadata": {
        "id": "ECT6whmyMWET"
      },
      "source": [
        "# Save processed data dataframes to new CSV files\n",
        "data.to_csv(\"data/quote.csv\", index=False)"
      ],
      "execution_count": 13,
      "outputs": []
    }
  ]
}